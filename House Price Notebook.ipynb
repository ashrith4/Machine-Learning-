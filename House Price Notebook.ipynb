{
 "cells": [
  {
   "cell_type": "code",
   "execution_count": 1,
   "id": "811784c9",
   "metadata": {
    "id": "811784c9"
   },
   "outputs": [
    {
     "name": "stderr",
     "output_type": "stream",
     "text": [
      "C:\\Users\\acer1\\AppData\\Local\\Temp\\ipykernel_11396\\2035458946.py:1: DeprecationWarning: \n",
      "Pyarrow will become a required dependency of pandas in the next major release of pandas (pandas 3.0),\n",
      "(to allow more performant data types, such as the Arrow string type, and better interoperability with other libraries)\n",
      "but was not found to be installed on your system.\n",
      "If this would cause problems for you,\n",
      "please provide us feedback at https://github.com/pandas-dev/pandas/issues/54466\n",
      "        \n",
      "  import pandas as pd\n"
     ]
    }
   ],
   "source": [
    "import pandas as pd\n"
   ]
  },
  {
   "cell_type": "code",
   "execution_count": null,
   "id": "3edd9737",
   "metadata": {
    "id": "3edd9737"
   },
   "outputs": [],
   "source": [
    "data = pd.read_csv(\"house_rent.csv\")\n"
   ]
  },
  {
   "cell_type": "code",
   "execution_count": null,
   "id": "f09731d2",
   "metadata": {
    "id": "f09731d2",
    "outputId": "48077b97-6d0c-4395-e48e-9bb120881bc2"
   },
   "outputs": [
    {
     "data": {
      "text/html": [
       "<div>\n",
       "<style scoped>\n",
       "    .dataframe tbody tr th:only-of-type {\n",
       "        vertical-align: middle;\n",
       "    }\n",
       "\n",
       "    .dataframe tbody tr th {\n",
       "        vertical-align: top;\n",
       "    }\n",
       "\n",
       "    .dataframe thead th {\n",
       "        text-align: right;\n",
       "    }\n",
       "</style>\n",
       "<table border=\"1\" class=\"dataframe\">\n",
       "  <thead>\n",
       "    <tr style=\"text-align: right;\">\n",
       "      <th></th>\n",
       "      <th>city</th>\n",
       "      <th>type</th>\n",
       "      <th>bhk</th>\n",
       "      <th>rent</th>\n",
       "    </tr>\n",
       "  </thead>\n",
       "  <tbody>\n",
       "    <tr>\n",
       "      <th>0</th>\n",
       "      <td>0</td>\n",
       "      <td>0</td>\n",
       "      <td>1</td>\n",
       "      <td>20000</td>\n",
       "    </tr>\n",
       "    <tr>\n",
       "      <th>1</th>\n",
       "      <td>0</td>\n",
       "      <td>0</td>\n",
       "      <td>2</td>\n",
       "      <td>30000</td>\n",
       "    </tr>\n",
       "    <tr>\n",
       "      <th>2</th>\n",
       "      <td>0</td>\n",
       "      <td>1</td>\n",
       "      <td>2</td>\n",
       "      <td>40000</td>\n",
       "    </tr>\n",
       "    <tr>\n",
       "      <th>3</th>\n",
       "      <td>1</td>\n",
       "      <td>0</td>\n",
       "      <td>3</td>\n",
       "      <td>50000</td>\n",
       "    </tr>\n",
       "    <tr>\n",
       "      <th>4</th>\n",
       "      <td>1</td>\n",
       "      <td>0</td>\n",
       "      <td>4</td>\n",
       "      <td>60000</td>\n",
       "    </tr>\n",
       "    <tr>\n",
       "      <th>5</th>\n",
       "      <td>1</td>\n",
       "      <td>1</td>\n",
       "      <td>4</td>\n",
       "      <td>70000</td>\n",
       "    </tr>\n",
       "    <tr>\n",
       "      <th>6</th>\n",
       "      <td>0</td>\n",
       "      <td>1</td>\n",
       "      <td>5</td>\n",
       "      <td>80000</td>\n",
       "    </tr>\n",
       "    <tr>\n",
       "      <th>7</th>\n",
       "      <td>1</td>\n",
       "      <td>1</td>\n",
       "      <td>5</td>\n",
       "      <td>90000</td>\n",
       "    </tr>\n",
       "  </tbody>\n",
       "</table>\n",
       "</div>"
      ],
      "text/plain": [
       "   city  type  bhk   rent\n",
       "0     0     0    1  20000\n",
       "1     0     0    2  30000\n",
       "2     0     1    2  40000\n",
       "3     1     0    3  50000\n",
       "4     1     0    4  60000\n",
       "5     1     1    4  70000\n",
       "6     0     1    5  80000\n",
       "7     1     1    5  90000"
      ]
     },
     "execution_count": 3,
     "metadata": {},
     "output_type": "execute_result"
    }
   ],
   "source": [
    "data"
   ]
  },
  {
   "cell_type": "code",
   "execution_count": null,
   "id": "d9b5a230",
   "metadata": {
    "id": "d9b5a230"
   },
   "outputs": [],
   "source": [
    "data = pd.get_dummies(data, columns=['city', 'type'], drop_first=True)\n"
   ]
  },
  {
   "cell_type": "code",
   "execution_count": null,
   "id": "82805154",
   "metadata": {
    "id": "82805154"
   },
   "outputs": [],
   "source": [
    "x= data.drop('rent', axis=1)\n",
    "\n",
    "y=data['rent']"
   ]
  },
  {
   "cell_type": "code",
   "execution_count": null,
   "id": "d9d91265",
   "metadata": {
    "id": "d9d91265",
    "outputId": "716b5c7f-171a-465d-fc10-97d942834a38"
   },
   "outputs": [
    {
     "data": {
      "text/html": [
       "<div>\n",
       "<style scoped>\n",
       "    .dataframe tbody tr th:only-of-type {\n",
       "        vertical-align: middle;\n",
       "    }\n",
       "\n",
       "    .dataframe tbody tr th {\n",
       "        vertical-align: top;\n",
       "    }\n",
       "\n",
       "    .dataframe thead th {\n",
       "        text-align: right;\n",
       "    }\n",
       "</style>\n",
       "<table border=\"1\" class=\"dataframe\">\n",
       "  <thead>\n",
       "    <tr style=\"text-align: right;\">\n",
       "      <th></th>\n",
       "      <th>bhk</th>\n",
       "      <th>city_1</th>\n",
       "      <th>type_1</th>\n",
       "    </tr>\n",
       "  </thead>\n",
       "  <tbody>\n",
       "    <tr>\n",
       "      <th>0</th>\n",
       "      <td>1</td>\n",
       "      <td>0</td>\n",
       "      <td>0</td>\n",
       "    </tr>\n",
       "    <tr>\n",
       "      <th>1</th>\n",
       "      <td>2</td>\n",
       "      <td>0</td>\n",
       "      <td>0</td>\n",
       "    </tr>\n",
       "    <tr>\n",
       "      <th>2</th>\n",
       "      <td>2</td>\n",
       "      <td>0</td>\n",
       "      <td>1</td>\n",
       "    </tr>\n",
       "    <tr>\n",
       "      <th>3</th>\n",
       "      <td>3</td>\n",
       "      <td>1</td>\n",
       "      <td>0</td>\n",
       "    </tr>\n",
       "    <tr>\n",
       "      <th>4</th>\n",
       "      <td>4</td>\n",
       "      <td>1</td>\n",
       "      <td>0</td>\n",
       "    </tr>\n",
       "    <tr>\n",
       "      <th>5</th>\n",
       "      <td>4</td>\n",
       "      <td>1</td>\n",
       "      <td>1</td>\n",
       "    </tr>\n",
       "    <tr>\n",
       "      <th>6</th>\n",
       "      <td>5</td>\n",
       "      <td>0</td>\n",
       "      <td>1</td>\n",
       "    </tr>\n",
       "    <tr>\n",
       "      <th>7</th>\n",
       "      <td>5</td>\n",
       "      <td>1</td>\n",
       "      <td>1</td>\n",
       "    </tr>\n",
       "  </tbody>\n",
       "</table>\n",
       "</div>"
      ],
      "text/plain": [
       "   bhk  city_1  type_1\n",
       "0    1       0       0\n",
       "1    2       0       0\n",
       "2    2       0       1\n",
       "3    3       1       0\n",
       "4    4       1       0\n",
       "5    4       1       1\n",
       "6    5       0       1\n",
       "7    5       1       1"
      ]
     },
     "execution_count": 6,
     "metadata": {},
     "output_type": "execute_result"
    }
   ],
   "source": [
    "x"
   ]
  },
  {
   "cell_type": "code",
   "execution_count": null,
   "id": "3d1b9d75",
   "metadata": {
    "id": "3d1b9d75",
    "outputId": "f259ae77-5f52-429e-e623-313d68f5b8c8"
   },
   "outputs": [
    {
     "data": {
      "text/plain": [
       "0    20000\n",
       "1    30000\n",
       "2    40000\n",
       "3    50000\n",
       "4    60000\n",
       "5    70000\n",
       "6    80000\n",
       "7    90000\n",
       "Name: rent, dtype: int64"
      ]
     },
     "execution_count": 7,
     "metadata": {},
     "output_type": "execute_result"
    }
   ],
   "source": [
    "y"
   ]
  },
  {
   "cell_type": "code",
   "execution_count": null,
   "id": "227648f9",
   "metadata": {
    "id": "227648f9"
   },
   "outputs": [],
   "source": [
    "from sklearn.linear_model import LinearRegression"
   ]
  },
  {
   "cell_type": "code",
   "execution_count": null,
   "id": "79fbc804",
   "metadata": {
    "id": "79fbc804"
   },
   "outputs": [],
   "source": [
    "model =LinearRegression()"
   ]
  },
  {
   "cell_type": "code",
   "execution_count": null,
   "id": "8f64a7a2",
   "metadata": {
    "id": "8f64a7a2",
    "outputId": "7ab3746b-81a5-4150-daa9-9d4c35767ce7"
   },
   "outputs": [
    {
     "data": {
      "text/plain": [
       "LinearRegression()"
      ]
     },
     "execution_count": 10,
     "metadata": {},
     "output_type": "execute_result"
    }
   ],
   "source": [
    "model.fit(x,y)"
   ]
  },
  {
   "cell_type": "code",
   "execution_count": null,
   "id": "8275a818",
   "metadata": {
    "id": "8275a818",
    "outputId": "829a2200-f14e-439e-ba4a-7e0e00530bf5"
   },
   "outputs": [
    {
     "name": "stdout",
     "output_type": "stream",
     "text": [
      "enter the city 0 or 1:0\n",
      "enter the type 0 or 1:1\n",
      "enter the bhk:3\n"
     ]
    }
   ],
   "source": [
    "city =int(input(\"enter the city 0 or 1:\"))\n",
    "type_ =int(input(\"enter the type 0 or 1:\"))\n",
    "bhk =int(input(\"enter the bhk:\"))"
   ]
  },
  {
   "cell_type": "code",
   "execution_count": null,
   "id": "907379be",
   "metadata": {
    "id": "907379be"
   },
   "outputs": [],
   "source": [
    "user_input = pd.DataFrame({\n",
    "    'city_1': [0],\n",
    "    'type_1': [0],\n",
    "    'bhk': [bhk]\n",
    "})"
   ]
  },
  {
   "cell_type": "code",
   "execution_count": null,
   "id": "5ff54791",
   "metadata": {
    "id": "5ff54791"
   },
   "outputs": [],
   "source": [
    "user_input = user_input[x.columns]\n"
   ]
  },
  {
   "cell_type": "code",
   "execution_count": null,
   "id": "c19edd71",
   "metadata": {
    "id": "c19edd71",
    "outputId": "30826176-db27-4901-8d1f-8dedeb937478"
   },
   "outputs": [
    {
     "name": "stdout",
     "output_type": "stream",
     "text": [
      "Predicted Rent: 43846.153846153844\n"
     ]
    }
   ],
   "source": [
    "predicted_rent = model.predict(user_input)[0]\n",
    "print(f'Predicted Rent: {predicted_rent}')"
   ]
  },
  {
   "cell_type": "code",
   "execution_count": null,
   "id": "2888e046",
   "metadata": {
    "id": "2888e046"
   },
   "outputs": [],
   "source": []
  }
 ],
 "metadata": {
  "colab": {
   "provenance": []
  },
  "kernelspec": {
   "display_name": "Python 3 (ipykernel)",
   "language": "python",
   "name": "python3"
  },
  "language_info": {
   "codemirror_mode": {
    "name": "ipython",
    "version": 3
   },
   "file_extension": ".py",
   "mimetype": "text/x-python",
   "name": "python",
   "nbconvert_exporter": "python",
   "pygments_lexer": "ipython3",
   "version": "3.12.3"
  }
 },
 "nbformat": 4,
 "nbformat_minor": 5
}
